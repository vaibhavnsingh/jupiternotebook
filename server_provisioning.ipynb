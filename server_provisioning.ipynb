{
 "cells": [
  {
   "cell_type": "code",
   "execution_count": 129,
   "metadata": {},
   "outputs": [],
   "source": [
    "from sqlalchemy import create_engine\n",
    "from sqlalchemy.ext.declarative import declarative_base\n",
    "from sqlalchemy import Column, Integer, String\n",
    "from sqlalchemy.orm import sessionmaker\n"
   ]
  },
  {
   "cell_type": "code",
   "execution_count": 130,
   "metadata": {},
   "outputs": [],
   "source": [
    "engine = create_engine('sqlite:///iptables.db')\n",
    "# connection = engine.connect()\n",
    "\n",
    "Base = declarative_base()\n",
    "\n",
    "Session = sessionmaker()\n",
    "Session.configure(bind=engine)\n",
    "session = Session()"
   ]
  },
  {
   "cell_type": "code",
   "execution_count": 131,
   "metadata": {},
   "outputs": [],
   "source": [
    "class IpStatus(Base):\n",
    "    __tablename__ = \"t_ipstatus\"\n",
    "    __table_args__ = {'extend_existing': True}\n",
    "    Ip            = Column(String(30), primary_key=True)\n",
    "    Status        = Column(String(30))\n",
    "    City          = Column(String(30))\n",
    "    ServerHall    = Column(String(30))\n",
    "    ServerHallId  = Column(Integer)\n",
    "    Env           = Column(String(30))\n",
    "    RackNo        = Column(Integer)\n",
    "    Remark        = Column(String(30))\n",
    "    \n",
    "    def __repr__(self):\n",
    "        return \"<IpStatus ( ip = '%s', Status = '%s', City = '%s', Serverhall = '%s', ServerHalId = '%s', Env = '%s', RackNo = '%s', Remark = '%s')>\" % (\n",
    "        self.Ip, self.Status, self.City, self.ServerHall, self.ServerHallId, self.Env, self.RackNo, self.Remark)\n",
    "    "
   ]
  },
  {
   "cell_type": "markdown",
   "metadata": {},
   "source": [
    "# 1. C - From CURD Operation"
   ]
  },
  {
   "cell_type": "code",
   "execution_count": 132,
   "metadata": {},
   "outputs": [],
   "source": [
    "### Create a record function \n",
    "\n",
    "def create_record(ObjectType):\n",
    "    output = None\n",
    "    err = None\n",
    "    \n",
    "    try :\n",
    "        session.add(ObjectType)\n",
    "        session.commit()\n",
    "    except Exception as e:\n",
    "        print(e)\n",
    "        session.rollback()\n",
    "\n",
    "ip1 =IpStatus(Ip=\"10.144.98.151\", Status=\"Free\", City=\"NVMB\",ServerHall=\"DC1\", ServerHallId=10)\n",
    "ip2 =IpStatus(Ip=\"10.144.98.152\", Status=\"Free\", City=\"NVMB\",ServerHall=\"DC1\", ServerHallId=10)\n",
    "ip3 =IpStatus(Ip=\"10.144.98.153\", Status=\"Free\", City=\"JMNG\",ServerHall=\"DC1\", ServerHallId=10)\n",
    "ip4 =IpStatus(Ip=\"10.144.98.154\", Status=\"Free\", City=\"JMNG\",ServerHall=\"DC1\", ServerHallId=10)\n",
    "ip1.__table__.create(engine, checkfirst=True)\n",
    "create_record(ip1)\n",
    "create_record(ip2)\n",
    "create_record(ip3)\n",
    "create_record(ip4)"
   ]
  },
  {
   "cell_type": "code",
   "execution_count": 127,
   "metadata": {},
   "outputs": [],
   "source": [
    "session.rollback()"
   ]
  },
  {
   "cell_type": "markdown",
   "metadata": {},
   "source": [
    "# 2. R - From CURD Operation"
   ]
  },
  {
   "cell_type": "markdown",
   "metadata": {},
   "source": [
    "<h1>Fetch a single record </h1>"
   ]
  },
  {
   "cell_type": "code",
   "execution_count": 6,
   "metadata": {},
   "outputs": [
    {
     "name": "stdout",
     "output_type": "stream",
     "text": [
      "<IpStatus ( ip = '10.144.98.151', Status = 'Free', City = 'NVMB', Serverhall = 'DC1', ServerHalId = '10', Env = 'dev', RackNo = '2', Remark = '')>\n"
     ]
    }
   ],
   "source": [
    "#def read_record(ObjectType, whatToUpdate, valuesToUpdate):\n",
    "def read_record():\n",
    "    return session.query(IpStatus).first()\n",
    "    \n",
    "first_record = read_record()\n",
    "print(first_record)"
   ]
  },
  {
   "cell_type": "markdown",
   "metadata": {},
   "source": [
    "<h1> Fetching records by giving dynamic flters </h1>"
   ]
  },
  {
   "cell_type": "code",
   "execution_count": 18,
   "metadata": {},
   "outputs": [
    {
     "name": "stdout",
     "output_type": "stream",
     "text": [
      "IpStatus.Status\n",
      "5\n"
     ]
    }
   ],
   "source": [
    "## If we are expecting multiple values for a key, we can use in as shown in line no 11. \n",
    "def read_record_dynamic_filters(filters):\n",
    "    q = session.query(IpStatus)\n",
    "    for k, v in filters.items():\n",
    "        f = getattr(IpStatus,k)\n",
    "        print(f)\n",
    "#         q = q.filter(f.in_(v))\n",
    "        q = q.filter(f == v)\n",
    "    return q.all()\n",
    "\n",
    "# f = {\"Status\": [\"Free\"], \"City\":[\"NVMB\"]}\n",
    "f = {\"Status\": \"Free\", \"City\":\"NVMB\"}\n",
    "dynamic_filter = read_record_dynamic_filters(f)\n",
    "print(len(dynamic_filter))"
   ]
  },
  {
   "cell_type": "markdown",
   "metadata": {},
   "source": [
    "<h1> Fetching Multiple values based on a condition </h1>"
   ]
  },
  {
   "cell_type": "code",
   "execution_count": 118,
   "metadata": {},
   "outputs": [
    {
     "name": "stdout",
     "output_type": "stream",
     "text": [
      "[('10.144.98.151', 'Used', 'NVMB', 'dev'), ('10.144.98.152', 'Used', 'NVMB', 'dev'), ('10.144.98.153', 'Used', 'NVMB', None), ('10.144.98.154', 'Used', 'NVMB', None), ('10.144.98.155', 'Used', 'JMNG', None)]\n"
     ]
    }
   ],
   "source": [
    "## Dynamic way to fetch the no of columns\n",
    "def read_dynamic_columns(cols):\n",
    "    q = session.query(*[getattr(IpStatus, attr) for attr in cols])\n",
    "    return q.all()\n",
    "\n",
    "f = ['Ip','Status','City', 'Env']\n",
    "dynamic_column = read_dynamic_columns(f)\n",
    "print(dynamic_column)\n"
   ]
  },
  {
   "cell_type": "markdown",
   "metadata": {},
   "source": [
    "# Combining all the conditions to make a generic function"
   ]
  },
  {
   "cell_type": "code",
   "execution_count": 119,
   "metadata": {},
   "outputs": [
    {
     "name": "stdout",
     "output_type": "stream",
     "text": [
      "[]\n"
     ]
    }
   ],
   "source": [
    "def fetch_record(clsName = None, fetchColumn = [], searchBy = {}, offset_number = 1,  count_number = 6, PageNo = 1, total_pages=0):\n",
    "    records = []\n",
    "    rc = []\n",
    "    try:\n",
    "        if not len(fetchColumn):\n",
    "            q = session.query(clsName)\n",
    "        else:\n",
    "            q = session.query(*[getattr(clsName, attr) for attr in fetchColumn])\n",
    "\n",
    "        for k, v in searchBy.items():\n",
    "            f = getattr(clsName,k)\n",
    "            q = q.filter(f == v)\n",
    "        records = [r._asdict() for r in q.offset(offset_number).limit(count_number).all()]\n",
    "    except Exception as e:\n",
    "        print(e)\n",
    "        session.rollback()\n",
    "        \n",
    "    return records\n",
    "\n",
    "cls    = IpStatus\n",
    "f      = ['Ip','Status']\n",
    "s      = {\"Status\":\"Free\"}\n",
    "ot     = 0\n",
    "nr     = 1\n",
    "pg     = 1\n",
    "tp     = 0\n",
    "\n",
    "reco = fetch_record(cls,f,s,ot,nr,pg,tp)\n",
    "print(reco)\n"
   ]
  },
  {
   "cell_type": "markdown",
   "metadata": {},
   "source": [
    "# 3. U - From CURD Operation"
   ]
  },
  {
   "cell_type": "code",
   "execution_count": 133,
   "metadata": {},
   "outputs": [
    {
     "name": "stdout",
     "output_type": "stream",
     "text": [
      "SELECT t_ipstatus.\"Ip\" AS \"t_ipstatus_Ip\", t_ipstatus.\"Status\" AS \"t_ipstatus_Status\", t_ipstatus.\"City\" AS \"t_ipstatus_City\", t_ipstatus.\"ServerHall\" AS \"t_ipstatus_ServerHall\", t_ipstatus.\"ServerHallId\" AS \"t_ipstatus_ServerHallId\", t_ipstatus.\"Env\" AS \"t_ipstatus_Env\", t_ipstatus.\"RackNo\" AS \"t_ipstatus_RackNo\", t_ipstatus.\"Remark\" AS \"t_ipstatus_Remark\" \n",
      "FROM t_ipstatus \n",
      "WHERE t_ipstatus.\"City\" = ?\n"
     ]
    }
   ],
   "source": [
    "def update_records(clsName = None, searchBy = {}, updateTo={}):\n",
    "    try:\n",
    "        q = session.query(clsName)\n",
    "        for k, v in searchBy.items():\n",
    "            f = getattr(clsName,k)\n",
    "            q = q.filter(f == v)\n",
    "        print(q)\n",
    "        q.update(updateTo)\n",
    "        session.commit()\n",
    "    except Exception as e:\n",
    "        print(e)\n",
    "        session.rollback()\n",
    "    return \"passs\"\n",
    "    \n",
    "c = IpStatus\n",
    "f = {\"City\":\"NVMB\"}\n",
    "u = {\"Status\" : \"Used\",\"Remark\":\"boked\"}\n",
    "\n",
    "rec = update_records(c,f,u)"
   ]
  },
  {
   "cell_type": "markdown",
   "metadata": {},
   "source": [
    "# 4. D - From Delete Operation"
   ]
  },
  {
   "cell_type": "code",
   "execution_count": 135,
   "metadata": {},
   "outputs": [
    {
     "name": "stdout",
     "output_type": "stream",
     "text": [
      "SELECT t_ipstatus.\"Ip\" AS \"t_ipstatus_Ip\", t_ipstatus.\"Status\" AS \"t_ipstatus_Status\", t_ipstatus.\"City\" AS \"t_ipstatus_City\", t_ipstatus.\"ServerHall\" AS \"t_ipstatus_ServerHall\", t_ipstatus.\"ServerHallId\" AS \"t_ipstatus_ServerHallId\", t_ipstatus.\"Env\" AS \"t_ipstatus_Env\", t_ipstatus.\"RackNo\" AS \"t_ipstatus_RackNo\", t_ipstatus.\"Remark\" AS \"t_ipstatus_Remark\" \n",
      "FROM t_ipstatus \n",
      "WHERE t_ipstatus.\"City\" = ?\n"
     ]
    }
   ],
   "source": [
    "def delete_records(clsName = None, searchBy = {}):\n",
    "    try:\n",
    "        q = session.query(clsName)\n",
    "        for k, v in searchBy.items():\n",
    "            f = getattr(clsName,k)\n",
    "            q = q.filter(f == v)\n",
    "        print(q)\n",
    "        \n",
    "        q.delete(synchronize_session=False)\n",
    "        session.commit()\n",
    "    except Exception as e:\n",
    "        print(e)\n",
    "        session.rollback()\n",
    "    return \"passs\"\n",
    "    \n",
    "c = IpStatus\n",
    "f = {\"City\":\"NVMB\"}\n",
    "\n",
    "rec = delete_records(c,f)"
   ]
  },
  {
   "cell_type": "code",
   "execution_count": null,
   "metadata": {},
   "outputs": [],
   "source": []
  }
 ],
 "metadata": {
  "kernelspec": {
   "display_name": "Python 3",
   "language": "python",
   "name": "python3"
  },
  "language_info": {
   "codemirror_mode": {
    "name": "ipython",
    "version": 3
   },
   "file_extension": ".py",
   "mimetype": "text/x-python",
   "name": "python",
   "nbconvert_exporter": "python",
   "pygments_lexer": "ipython3",
   "version": "3.7.0"
  }
 },
 "nbformat": 4,
 "nbformat_minor": 2
}
